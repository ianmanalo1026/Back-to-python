{
 "cells": [
  {
   "cell_type": "code",
   "execution_count": 4,
   "id": "11958f29",
   "metadata": {},
   "outputs": [
    {
     "name": "stdout",
     "output_type": "stream",
     "text": [
      "the quick brown fox jump over the lazy dog\n",
      "This is for longer paragraph or sentences \n",
      "                and can have multiple line\n",
      "                break as long as the words are \n",
      "                inside the double qoute\n",
      "the quick brown fox jump over \n",
      "the quick brown fox jump over the lazy dog\n",
      " lazy \n",
      "Hello World!\n",
      "I am 30 years old!\n",
      "1\n",
      "abcdefghijklmnopqrstuvwxyz\n",
      "Abcdefghijklmnopqrstuvwxyz\n",
      "ABCDEFGHIJKLMNOPQRSTUVWXYZ\n",
      "8\n",
      "8\n",
      "Hello, World!\n",
      "26\n",
      "<class 'int'>\n",
      "<class 'float'>\n",
      "5\n",
      "-1\n",
      "180\n",
      "6.0\n",
      "1\n",
      "1000000\n",
      "333\n",
      "8\n",
      "True\n",
      "False\n",
      "True\n",
      "True\n",
      "john doe 9000\n"
     ]
    }
   ],
   "source": [
    "#Python Practice\n",
    "\n",
    "#String and methods of strins\n",
    "\n",
    "text = \"the quick brown fox jump over the lazy dog\"\n",
    "print(text)\n",
    "\n",
    "paragraph = \"\"\"This is for longer paragraph or sentences \n",
    "                and can have multiple line\n",
    "                break as long as the words are \n",
    "                inside the double qoute\"\"\"\n",
    "print(paragraph)\n",
    "\n",
    "#slicing the strings. first number is the starting index and the 2nd is the last index(not included on the slicing)\n",
    "\n",
    "slicing = text[:30]\n",
    "print(slicing)\n",
    "\n",
    "#without the 2nd number, it will indicate that we are looking to get until the end of the sentences.\n",
    "slicing1 = text[0:]\n",
    "print(slicing1)\n",
    "\n",
    "#Negative slicing will start at the end of the sentences\n",
    "slicing2 = text[-9:-3]\n",
    "print(slicing2)\n",
    "\n",
    "#concatinate 2 strings\n",
    "text1 = \"Hello \"\n",
    "text2 = \"World!\"\n",
    "combined = text1+text2\n",
    "\n",
    "print(combined)\n",
    "\n",
    "\n",
    "#format is use if we need to concatinate numbers and strings.\n",
    "age = 30\n",
    "text3 = \"I am {} years old!\"\n",
    "\n",
    "print(text3.format(age))\n",
    "\n",
    "#strings Method\n",
    "\n",
    "uppercase_letter = \"ABCDEFGHIJKLMNOPQRSTUVWXYZ\"\n",
    "lowercase_letter = \"abcdefghijklmnopqrstuvwxyz\"\n",
    "withcapital_letter = \"Abcdefghijklmnopqrstuvwxyz\"\n",
    "\n",
    "#count the specified string\n",
    "print(paragraph.count(\"for\"))\n",
    "\n",
    "#lowercases\n",
    "print(uppercase_letter.casefold())\n",
    "\n",
    "#capitalize the string\n",
    "print(lowercase_letter.capitalize())\n",
    "\n",
    "#uppercase \n",
    "print(lowercase_letter.upper())\n",
    "\n",
    "#return the index of the specified string\n",
    "print(uppercase_letter.index(\"I\"))\n",
    "\n",
    "#find is similar to index\n",
    "print(uppercase_letter.find(\"I\"))\n",
    "\n",
    "#strip whitespaces\n",
    "text4 = \"   Hello, World!    \"\n",
    "print(text4.strip())\n",
    "\n",
    "#checking the length of the string\n",
    "print(len(uppercase_letter))\n",
    "\n",
    "\n",
    "\n",
    "#Numbers\n",
    "#python can determine if the number is floating or integers\n",
    "\n",
    "number = 1234567890\n",
    "print(type(number))\n",
    "\n",
    "number1 = 3.15\n",
    "print(type(number1))\n",
    "\n",
    "#operation\n",
    "\n",
    "number3 = 2+3\n",
    "print(number3)\n",
    "\n",
    "number4 = 5-6\n",
    "print(number4)\n",
    "\n",
    "number5 = 6*30\n",
    "print(number5)\n",
    "\n",
    "number6 = 18/3\n",
    "print(number6)\n",
    "\n",
    "#remainder of the equation\n",
    "number7 = 100%11\n",
    "print(number7)\n",
    "\n",
    "#exponential\n",
    "number8 = 100**3\n",
    "print(number8)\n",
    "\n",
    "number9 = 1000//3\n",
    "print(number9)\n",
    "\n",
    "#sample operation in python\n",
    "\n",
    "number10 = 5\n",
    "number10 += 3\n",
    "print(number10)\n",
    "\n",
    "#operator\n",
    "\n",
    "q = 10\n",
    "p = 10\n",
    "t = 9\n",
    "w = \"Hello\"\n",
    "i = \"hello\"\n",
    "\n",
    "print(q == p)\n",
    "print(w == i)\n",
    "print(w != i)\n",
    "print(q <= 10)\n",
    "\n",
    "emp1_sample = \"john-doe-9000\"\n",
    "first, second, third = emp1_sample.split('-')\n",
    "print(first,second, third)"
   ]
  },
  {
   "cell_type": "code",
   "execution_count": 2,
   "id": "b148ce1c",
   "metadata": {},
   "outputs": [
    {
     "name": "stdout",
     "output_type": "stream",
     "text": [
      "elif\n",
      "apple\n",
      "1 ---> Odd Number\n",
      "2 ---> Even Number\n",
      "3 ---> Odd Number\n",
      "4 ---> Even Number\n",
      "5 ---> Odd Number\n",
      "6 ---> Even Number\n",
      "7 ---> Odd Number\n",
      "8 ---> Even Number\n",
      "9 ---> Odd Number\n",
      "10 ---> Even Number\n",
      "11 ---> Odd Number\n",
      "12 ---> Even Number\n",
      "13 ---> Odd Number\n",
      "14 ---> Even Number\n",
      "15 ---> Odd Number\n",
      "16 ---> Even Number\n",
      "17 ---> Odd Number\n",
      "18 ---> Even Number\n",
      "19 ---> Odd Number\n",
      "20 ---> Even Number\n",
      "21 ---> Odd Number\n",
      "22 ---> Even Number\n",
      "23 ---> Odd Number\n",
      "24 ---> Even Number\n",
      "25 ---> Odd Number\n",
      "26 ---> Even Number\n",
      "27 ---> Odd Number\n",
      "28 ---> Even Number\n",
      "29 ---> Odd Number\n",
      "30 ---> Even Number\n",
      "31 ---> Odd Number\n",
      "32 ---> Even Number\n",
      "33 ---> Odd Number\n",
      "34 ---> Even Number\n",
      "35 ---> Odd Number\n",
      "36 ---> Even Number\n",
      "37 ---> Odd Number\n",
      "38 ---> Even Number\n",
      "39 ---> Odd Number\n",
      "40 ---> Even Number\n",
      "41 ---> Odd Number\n",
      "42 ---> Even Number\n",
      "43 ---> Odd Number\n",
      "44 ---> Even Number\n",
      "45 ---> Odd Number\n",
      "46 ---> Even Number\n",
      "47 ---> Odd Number\n",
      "48 ---> Even Number\n",
      "49 ---> Odd Number\n",
      "50 ---> Even Number\n",
      "51 ---> Odd Number\n",
      "52 ---> Even Number\n",
      "53 ---> Odd Number\n",
      "54 ---> Even Number\n",
      "55 ---> Odd Number\n",
      "56 ---> Even Number\n",
      "57 ---> Odd Number\n",
      "58 ---> Even Number\n",
      "59 ---> Odd Number\n",
      "60 ---> Even Number\n",
      "61 ---> Odd Number\n",
      "62 ---> Even Number\n",
      "63 ---> Odd Number\n",
      "64 ---> Even Number\n",
      "65 ---> Odd Number\n",
      "66 ---> Even Number\n",
      "67 ---> Odd Number\n",
      "68 ---> Even Number\n",
      "69 ---> Odd Number\n",
      "70 ---> Even Number\n",
      "71 ---> Odd Number\n",
      "72 ---> Even Number\n",
      "73 ---> Odd Number\n",
      "74 ---> Even Number\n",
      "75 ---> Odd Number\n",
      "76 ---> Even Number\n",
      "77 ---> Odd Number\n",
      "78 ---> Even Number\n",
      "79 ---> Odd Number\n",
      "80 ---> Even Number\n",
      "81 ---> Odd Number\n",
      "82 ---> Even Number\n",
      "83 ---> Odd Number\n",
      "84 ---> Even Number\n",
      "85 ---> Odd Number\n",
      "86 ---> Even Number\n",
      "87 ---> Odd Number\n",
      "88 ---> Even Number\n",
      "89 ---> Odd Number\n",
      "90 ---> Even Number\n",
      "91 ---> Odd Number\n",
      "92 ---> Even Number\n",
      "93 ---> Odd Number\n",
      "94 ---> Even Number\n",
      "95 ---> Odd Number\n",
      "96 ---> Even Number\n",
      "97 ---> Odd Number\n",
      "98 ---> Even Number\n",
      "99 ---> Odd Number\n",
      "100 ---> Even Number\n",
      "2 --->Even Numbers\n",
      "4 --->Even Numbers\n",
      "6 --->Even Numbers\n",
      "8 --->Even Numbers\n",
      "10 --->Even Numbers\n"
     ]
    }
   ],
   "source": [
    "#if else\n",
    "\n",
    "sample1 = 20\n",
    "sample2 = 30\n",
    "\n",
    "if sample1 + sample2 < 50:\n",
    "    print(\"if\")\n",
    "elif sample2 - sample2 < 10:\n",
    "    print(\"elif\")\n",
    "else:\n",
    "    print(\"finish\")\n",
    "\n",
    "\n",
    "#for loop\n",
    "\n",
    "fruits = ['banana','apple','orange']\n",
    "\n",
    "for x in fruits:\n",
    "    if x == \"apple\":\n",
    "        print(x)\n",
    "        continue\n",
    "        \n",
    "    \n",
    "for x in range(1,101):\n",
    "    if x % 2 == 0:\n",
    "        print(\"{} ---> Even Number\".format(x))\n",
    "    else:\n",
    "        print(\"{} ---> Odd Number\".format(x))\n",
    "        \n",
    "#while loop\n",
    "\n",
    "num = 0\n",
    "\n",
    "while num < 10:\n",
    "    num += 1\n",
    "    if num % 2 == 0:\n",
    "        print(\"{} --->Even Numbers\".format(num))"
   ]
  },
  {
   "cell_type": "code",
   "execution_count": 3,
   "id": "bfc479e7",
   "metadata": {},
   "outputs": [
    {
     "name": "stdout",
     "output_type": "stream",
     "text": [
      "*\n",
      "**\n",
      "***\n",
      "****\n",
      "*****\n",
      "******\n",
      "*******\n",
      "********\n",
      "*********\n",
      "**********\n"
     ]
    }
   ],
   "source": [
    "#try/except\n",
    "\n",
    "g = 10\n",
    "\n",
    "for x in range(1,g+1):\n",
    "    print(x*\"*\")"
   ]
  },
  {
   "cell_type": "code",
   "execution_count": 4,
   "id": "7e3e91e5",
   "metadata": {},
   "outputs": [
    {
     "name": "stdout",
     "output_type": "stream",
     "text": [
      "Error\n",
      "Maximun lenght of list is 6\n"
     ]
    }
   ],
   "source": [
    "try:\n",
    "    print(1/0)\n",
    "except Exception:\n",
    "    print(\"Error\")\n",
    "    \n",
    "lst1 = [1,2,3,4,5,6]\n",
    "try:\n",
    "    print(lst1[10])\n",
    "except IndexError:\n",
    "    print(\"Maximun lenght of list is {}\".format(len(lst1)))"
   ]
  },
  {
   "cell_type": "code",
   "execution_count": 5,
   "id": "487ba32a",
   "metadata": {},
   "outputs": [
    {
     "name": "stdout",
     "output_type": "stream",
     "text": [
      "Holly Shit\n"
     ]
    }
   ],
   "source": [
    "def name_var(name):\n",
    "    print(name)\n",
    "\n",
    "name_var(\"Holly Shit\")"
   ]
  },
  {
   "cell_type": "code",
   "execution_count": 38,
   "id": "8374b629",
   "metadata": {},
   "outputs": [
    {
     "name": "stdout",
     "output_type": "stream",
     "text": [
      "6\n"
     ]
    },
    {
     "data": {
      "text/plain": [
       "20"
      ]
     },
     "execution_count": 38,
     "metadata": {},
     "output_type": "execute_result"
    }
   ],
   "source": [
    "#lambda\n",
    "#lambda argument :expression\n",
    "y = lambda a,b,c: a+b+c\n",
    "x = lambda a: a+ 1\n",
    "x(20)\n",
    "y(2,3,4)\n",
    "\n",
    "def lambda_practice(n):\n",
    "    return lambda a: a * n\n",
    "\n",
    "dobule = lambda_practice(2)\n",
    "dobule(3)\n",
    "\n",
    "lambda_practice = lambda a,b,c: print(a + b  + c)\n",
    "\n",
    "lambda_practice(1,2,3)\n",
    "\n",
    "def new_function_for_lambda(x):\n",
    "    return x + 10\n",
    "\n",
    "lambda_practice2 = lambda x: new_function_for_lambda(x)\n",
    "lambda_practice2(10)"
   ]
  },
  {
   "cell_type": "code",
   "execution_count": 7,
   "id": "5076b32b",
   "metadata": {},
   "outputs": [
    {
     "name": "stdout",
     "output_type": "stream",
     "text": [
      "Word: 4\n"
     ]
    }
   ],
   "source": [
    "import re\n",
    "\n",
    "\n",
    "# .       - Any Character Except New Line\n",
    "# \\d      - Digit (0-9)\n",
    "# \\D      - Not a Digit (0-9)\n",
    "# \\w      - Word Character (a-z, A-Z, 0-9, _)\n",
    "# \\W      - Not a Word Character\n",
    "# \\s      - Whitespace (space, tab, newline)\n",
    "# \\S      - Not Whitespace (space, tab, newline)\n",
    "\n",
    "# \\b      - Word Boundary\n",
    "# \\B      - Not a Word Boundary\n",
    "# ^       - Beginning of a String\n",
    "# $       - End of a String\n",
    "\n",
    "# []      - Matches Characters in brackets\n",
    "# [^ ]    - Matches Characters NOT in brackets\n",
    "# |       - Either Or\n",
    "# ( )     - Group\n",
    "\n",
    "# Quantifiers:\n",
    "# *       - 0 or More\n",
    "# +       - 1 or More\n",
    "# ?       - 0 or One\n",
    "# {3}     - Exact Number\n",
    "# {3,4}   - Range of Numbers (Minimum, Maximum)\n",
    "\n",
    "\n",
    "#### Sample Regexs ####\n",
    "\n",
    "# [a-zA-Z0-9_.+-]+@[a-zA-Z0-9-]+\\.[a-zA-Z0-9-.]+\n",
    "\n",
    "x = re.findall(\"^the$\",paragraph)\n",
    "\n",
    "# if x:\n",
    "#     print(\"yes\")\n",
    "# else:\n",
    "#     print(\"no\")\n",
    "    \n",
    "    \n",
    "text2 = \"\"\"\n",
    "abcdefghijklmnopqrstuvwxyz\n",
    "ABCDEFGHIJKLMNOPQRSTUVWXYZ\n",
    "1234567890\n",
    ".\n",
    ".\n",
    ".\n",
    ".\n",
    "ianmanalo.info\n",
    ".\n",
    ".\n",
    ".\n",
    ".\n",
    ".\n",
    ".\n",
    ".\n",
    ".\n",
    ".\n",
    ".\n",
    ".\n",
    ".\n",
    ".\n",
    "...\n",
    ".\n",
    ".\n",
    "....\n",
    "..\n",
    ".\n",
    ".\n",
    ".\n",
    "\n",
    ".\n",
    ".\n",
    ".\n",
    ".\n",
    ".\n",
    ".\n",
    ".\n",
    ".\n",
    ".\n",
    ".\n",
    ".\n",
    ".\n",
    "\n",
    ".\n",
    ".\n",
    "Ha HaHa\n",
    "999-999-9999\n",
    "111-111-1111\n",
    "222*222*2222\n",
    "\n",
    "Mr. Schafer\n",
    "Mr manalo\n",
    "Ms Davis\n",
    "mr george\n",
    "\n",
    "dr roberto\n",
    "word\n",
    "word\n",
    "word\n",
    "word\n",
    "\"\"\"\n",
    "\n",
    "pattern = re.compile(r'\\b{}\\b'.format('word'))\n",
    "matches = pattern.finditer(text2)\n",
    "\n",
    "# for match in matches:\n",
    "#     print(match)\n",
    "\n",
    "good_words = [\"buy\", \"approved\", \"increasing\"]\n",
    "\n",
    "count = sum(1 for match in re.finditer(r\"\\bwords?\\b\", text2))\n",
    "print(\"{}: {}\".format(\"Word\",count))"
   ]
  },
  {
   "cell_type": "code",
   "execution_count": 67,
   "id": "66dd27c8",
   "metadata": {},
   "outputs": [
    {
     "name": "stdout",
     "output_type": "stream",
     "text": [
      "[1, 2, 3, 4, 'a', 'b', 'c', 'D']\n",
      "[1, 2, 3, 4, 'a', 'b', 'c', 'D', 'e']\n",
      "[0, 1, 2, 3, 4, 'a', 'b', 'c', 'D', 'e']\n",
      "[0, 1, 2, 3, 4, 'a', 'b', 'c', 'D', 'e', 5, 6, 7, 8, 'f', 'g', 'h', 'i']\n",
      "Number ---> 0\n",
      "Number ---> 1\n",
      "Number ---> 2\n",
      "Number ---> 3\n",
      "Number ---> 4\n",
      "Letter ---> a\n",
      "Letter ---> b\n",
      "Letter ---> c\n",
      "Letter ---> D\n",
      "Letter ---> e\n",
      "Number ---> 5\n",
      "Number ---> 6\n",
      "Number ---> 7\n",
      "Number ---> 8\n",
      "Letter ---> f\n",
      "Letter ---> g\n",
      "Letter ---> h\n",
      "Letter ---> i\n",
      "list Comprehension\n",
      "['a', 'b', 'c', 'D', 'e', 'f', 'g', 'h', 'i']\n",
      "['hello', 'planet', 'website', 'world']\n",
      "4\n"
     ]
    }
   ],
   "source": [
    "#data structure\n",
    "\n",
    "#list\n",
    "\n",
    "thisList = [1,2,3,4,\"a\",\"b\",\"c\",\"D\"]\n",
    "otherlist = [5,6,7,8,\"f\",\"g\",\"h\",\"i\"]\n",
    "uppercase_list = [\"Hello\", \"World\", \"Planet\", \"Website\"]\n",
    "\n",
    "print(thisList)\n",
    "\n",
    "thisList.append(\"e\")\n",
    "print(thisList)\n",
    "\n",
    "thisList.insert(0,0)\n",
    "print(thisList)\n",
    "\n",
    "thisList.extend(otherlist)\n",
    "print(thisList)\n",
    "\n",
    "for x in thisList:\n",
    "    if type(x) == str:\n",
    "        print(\"Letter ---> {}\".format(x))\n",
    "    else:\n",
    "        print(\"Number ---> {}\".format(x))\n",
    "        \n",
    "        \n",
    "print(\"list Comprehension\")\n",
    "\n",
    "print([x for x in thisList if type(x) == str])\n",
    "\n",
    "y = []\n",
    "for x in uppercase_list:\n",
    "    y.append(x.lower())\n",
    "\n",
    "y.sort()\n",
    "print(y)\n",
    "print(len(y))"
   ]
  },
  {
   "cell_type": "code",
   "execution_count": 155,
   "id": "e7b8f3ba",
   "metadata": {},
   "outputs": [
    {
     "name": "stdout",
     "output_type": "stream",
     "text": [
      "dict_keys(['brand', 'model', 'year'])\n",
      "dict_items([('brand', 'Ford'), ('model', 'Mustang'), ('year', 1964)])\n",
      "yes\n",
      "{'brand': 'Ford', 'model': 'Mustang', 'year': 2022}\n",
      "{'brand': 'Ford', 'model': 'Mustang', 'year': 2022, 'color': 'black'}\n",
      "brand > Ford\n",
      "model > Mustang\n",
      "year > 2022\n",
      "color > black\n",
      "['ian', 32, 'white']\n",
      "<class 'str'> child1 <class 'str'> name <class 'str'> ian\n",
      "<class 'str'> child1 <class 'str'> age <class 'int'> 32\n",
      "<class 'str'> child1 <class 'str'> color <class 'str'> white\n",
      "<class 'str'> child2 <class 'str'> name <class 'str'> janet\n",
      "<class 'str'> child2 <class 'str'> age <class 'int'> 36\n",
      "<class 'str'> child2 <class 'str'> color <class 'str'> white\n",
      "<class 'str'> child3 <class 'str'> name <class 'str'> gladys\n",
      "<class 'str'> child3 <class 'str'> age <class 'int'> 38\n",
      "<class 'str'> child3 <class 'str'> color <class 'str'> white\n"
     ]
    }
   ],
   "source": [
    "#dictionary\n",
    "\n",
    "car = {\n",
    "\"brand\": \"Ford\",\n",
    "\"model\": \"Mustang\",\n",
    "\"year\": 1964\n",
    "}\n",
    "\n",
    "print(car.keys())\n",
    "print(car.items())\n",
    "\n",
    "if \"model\" in car:\n",
    "    print(\"yes\")\n",
    "    \n",
    "car[\"year\"] = 2022\n",
    "print(car)\n",
    "\n",
    "car[\"color\"] = \"black\"\n",
    "print(car)\n",
    "\n",
    "for x, y in car.items():\n",
    "    print(\"{} > {}\".format(x,y))\n",
    "    \n",
    "    \n",
    "family = {\n",
    "    \"child1\" : {\n",
    "        \"name\":\"ian\",\n",
    "        \"age\" : 32,\n",
    "        \"color\" : \"white\"\n",
    "    },\n",
    "    \"child2\": {\n",
    "        \"name\": \"janet\",\n",
    "        \"age\": 36,\n",
    "        \"color\": \"white\"\n",
    "    },\n",
    "    \"child3\": {\n",
    "        \"name\": \"gladys\",\n",
    "        \"age\": 38,\n",
    "        \"color\": \"white\"\n",
    "    }\n",
    "}\n",
    "\n",
    "for x,y in family.items():\n",
    "    y[\"name\"].capitalize()\n",
    "\n",
    "print(list(family[\"child1\"].values()))\n",
    "\n",
    "for key,val in family.items():\n",
    "    for keys, values in val.items():\n",
    "            print(type(key), key, type(keys), keys, type(values), values)\n"
   ]
  },
  {
   "cell_type": "code",
   "execution_count": 17,
   "id": "a6e7ac3e",
   "metadata": {},
   "outputs": [
    {
     "name": "stdout",
     "output_type": "stream",
     "text": [
      "{'aapl': 1, 'tsla': 1, 'uber': 1, 'msft': 1, 'pstg': 1}\n"
     ]
    }
   ],
   "source": [
    "#removing duplicate in a list with edge check\n",
    "\n",
    "example1 = \"asdasdasdasdasdasdasdasdasdasdasdasdasdasdnkmb achjkn snbjkash1231312313123123123123123123dkasjhd ajskhd ajksdh hhqjkahjkhdjakshd jkashdjahjkhdajkhdjk hjsadh fjksdhfjkshjhcdsajkchdkjnchkjahckjna\"\n",
    "\n",
    "def remove_dupli(lst):\n",
    "    no_dupli = []\n",
    "    \n",
    "    if len(lst) == 0: \n",
    "        print(\"Invalid List\")\n",
    "        \n",
    "    for x in lst:\n",
    "        if type(x) is not str:\n",
    "            print(\"Should be Letter only\")\n",
    "    \n",
    "    for x in example1:\n",
    "        if x.lower() not in no_dupli:\n",
    "            no_dupli.append(x)\n",
    "    return no_dupli\n",
    "\n",
    "remove_dupli(example1)\n",
    "\n",
    "\n",
    "\n",
    "\n",
    "sample_list = [\"aapl\",\"tsla\",\"uber\",\"msft\",\"pstg\"]\n",
    "\n",
    "blank_list = [\"aapl\",\"tsla\",\"aapl\",\"aapl\",\"aapl\",\"tsla\",\"uber\",\"msft\",\"pstg\"]\n",
    "dict1 = {}\n",
    "for x in blank_list:\n",
    "    count = 0\n",
    "    if x in sample_list:\n",
    "        count += 1\n",
    "        dict1[x] = count\n",
    "        continue\n",
    "\n",
    "print(dict1)"
   ]
  },
  {
   "cell_type": "code",
   "execution_count": 50,
   "id": "ed932fff",
   "metadata": {},
   "outputs": [
    {
     "name": "stdout",
     "output_type": "stream",
     "text": [
      "Ian Manalo\n",
      "60000\n",
      "Ian.Manalo@email.com\n",
      "62400\n",
      "4\n",
      "True\n",
      "90000\n",
      "----> Ian Manalo\n",
      "122400\n",
      "Joe\n",
      "Joe.Karter@email.com\n",
      "Joe Karter\n",
      "Deleted\n"
     ]
    }
   ],
   "source": [
    "# Python is an object-oriented programming language. \n",
    "# This means that almost all the code is implemented using a special construct called classes. \n",
    "# A class is a code template for creating objects.\n",
    "\n",
    "# The class is a user-defined data structure that binds the data members and methods into a single unit. \n",
    "# Class is a blueprint or code template for object creation. \n",
    "# Using a class, you can create as many objects as you want.\n",
    "\n",
    "# An object is an instance of a class. It is a collection of attributes (variables) and methods. \n",
    "# We use the object of a class to perform actions.\n",
    "\n",
    "# Instance method performs a set of actions on the data/value provided by the instance variables. \n",
    "# If we use instance variables inside a method, such methods are called instance methods.\n",
    "# The instance method acts on an object’s attributes. \n",
    "# It can modify the object state by changing the value of instance variables.\n",
    "\n",
    "\n",
    "# Class method is method that is called on the class itself, not on a specific object instance. \n",
    "# Therefore, it belongs to a class level, and all class instances share a class method.\n",
    "# Class method Used to access or modify the class state. \n",
    "# It can modify the class state by changing the value of a class variable that would apply across all the class objects.\n",
    "\n",
    "# Static method is a general utility method that performs a task in isolation. \n",
    "# This method doesn’t have access to the instance and class variable.\n",
    "# Static methods have limited use because they don’t have access to the attributes of an object \n",
    "# (instance variables) and class attributes (class variables). \n",
    "# However, they can be helpful in utility such as conversion form one type to another.\n",
    "\n",
    "# Special Method - A class can implement certain operations that are invoked by special syntax \n",
    "# (such as arithmetic operations or subscripting and slicing) by defining methods with special names.\n",
    "\n",
    "import datetime\n",
    "\n",
    "#Parent Class\n",
    "class Employee:\n",
    "    \n",
    "    raise_amount = 1.04 #class variable\n",
    "    num_of_emp = 0 #class variable\n",
    "    \n",
    "    def __init__(self, fname, lname, pay, age): #Instance Method\n",
    "        self.fname = fname # instance variables\n",
    "        self.lname = lname # instance variables\n",
    "        self.pay = pay # instance variables\n",
    "        self.age = age # instance variables\n",
    "        \n",
    "        Employee.num_of_emp += 1\n",
    "        \n",
    "    @property \n",
    "    def email(self):\n",
    "        return '{}.{}@email.com'.format(self.fname, self.lname)\n",
    "        \n",
    "    @property\n",
    "    def fullname(self): #method #Instance Method\n",
    "        return \"{} {}\".format(self.fname, self.lname)\n",
    "    \n",
    "    @fullname.setter #setter is a property where we can do some changes or set on the instance variable\n",
    "    def fullname(self, name):\n",
    "        fname, lname = name.split(\" \")\n",
    "        self.fname = fname\n",
    "        self.lname = lname\n",
    "        \n",
    "    @fullname.deleter #setter is a property where we can do some changes or set on the instance variable\n",
    "    def fullname(self):\n",
    "        print(\"Deleted\")\n",
    "        self.fname = None\n",
    "        self.lname = None\n",
    "    \n",
    "    def apply_raise(self): #Instance Method\n",
    "        self.pay = int(self.pay * self.raise_amount)\n",
    "        return self.pay\n",
    "    \n",
    "    @classmethod\n",
    "    def set_raise_amount(cls, amount): #Class Method\n",
    "        cls.raise_amount = amount\n",
    "        \n",
    "    @classmethod\n",
    "    def from_string(cls, emp_str): #Class Method\n",
    "        first, last, pay = emp_str.split(\"-\")\n",
    "        return cls(first, second, third)\n",
    "    \n",
    "    @staticmethod\n",
    "    def is_workday(day): #Static Method\n",
    "        if day.weekday() == 5 or day.weekday() == 6:\n",
    "            return False\n",
    "        return True\n",
    "    \n",
    "    def __repr__(self):\n",
    "        return \"Employee({}, {}, {}, {})\".format(self.fname, self.lname,self.pay, self.age)\n",
    "    \n",
    "    def __str__(self):\n",
    "        return '{} - {}'.format(self.fullname(), self.email)\n",
    "    \n",
    "    def __add__(self, other):\n",
    "        return self.pay + other.pay\n",
    "    \n",
    "\n",
    "#class Inheritance\n",
    "# child class\n",
    "class Developer(Employee):\n",
    "    raise_amt = 1.10\n",
    "    \n",
    "    def __init__(self, first, last, age, pay,prog_lang):\n",
    "        super().__init__(first, last,age ,pay) # calling init method from parent class\n",
    "        #Employee.__init__(self, first, last, pay) same as super().__init__(first, last,pay)\n",
    "        self.prog_lang = prog_lang\n",
    "        \n",
    "\n",
    "dev_1 = Developer('Ian','Manalo' ,90000 ,32 , 'Python')\n",
    "dev_2 = Developer('John' ,'Doe' ,90000 ,32 , 'Java')\n",
    "\n",
    "\n",
    "\n",
    "# child class\n",
    "class Manager(Employee):\n",
    "    \n",
    "    def __init__(self, first, last, age, pay, employees=None):\n",
    "        super().__init__(first, last, age, pay)\n",
    "        if employees is None:\n",
    "            self.employees = []\n",
    "        else:\n",
    "            self.employees = employees\n",
    "            \n",
    "    def add_emp(self, emp):\n",
    "        if emp not in employees:\n",
    "            self.employees.append(emp)\n",
    "            \n",
    "    def remove_amp(self, emp):\n",
    "        if emp in employees:\n",
    "            self.employees.remove(emp)\n",
    "            \n",
    "    def print_emp(self):\n",
    "        for emp in self.employees:\n",
    "            print('---->', emp.fullname)\n",
    "            \n",
    "\n",
    "emp_1 = Employee(\"Ian\", \"Manalo\", 60000, 32)\n",
    "emp_2 = Employee(\"Ian\", \"Manalo\", 60000, 32)\n",
    "\n",
    "print(emp_1.fullname)\n",
    "print(emp_1.pay)\n",
    "print(emp_1.email)\n",
    "emp_1.apply_raise()\n",
    "print(emp_1.pay)\n",
    "\n",
    "print(Employee.num_of_emp)\n",
    "\n",
    "my_date = datetime.date(2022,3,8)\n",
    "print(Employee.is_workday(my_date))\n",
    "\n",
    "print(dev_1.pay)\n",
    "\n",
    "mgr_1 = Manager('Sue', 'Ramirez', 35, 100000, [dev_1])\n",
    "\n",
    "mgr_1.print_emp()\n",
    "\n",
    "print(emp_1 + emp_2)\n",
    "\n",
    "emp_1.fullname = 'Joe Karter'\n",
    "print(emp_1.fname)\n",
    "print(emp_1.email)\n",
    "print(emp_1.fullname)\n",
    "\n",
    "del emp_1.fullname"
   ]
  },
  {
   "cell_type": "code",
   "execution_count": 1,
   "id": "ed6726a1",
   "metadata": {},
   "outputs": [
    {
     "name": "stdout",
     "output_type": "stream",
     "text": [
      "hello World\n"
     ]
    }
   ],
   "source": [
    "def main():\n",
    "    print(\"hello World\")\n",
    "\n",
    "if __name__ == \"__main__\": #will run the existing script\n",
    "    main()"
   ]
  },
  {
   "cell_type": "code",
   "execution_count": 3,
   "id": "88fa93eb",
   "metadata": {},
   "outputs": [
    {
     "name": "stdout",
     "output_type": "stream",
     "text": [
      "6600.0\n"
     ]
    }
   ],
   "source": [
    "def print_seconds(hours, minutes, seconds):\n",
    "    print((3600/hours)+(3600/minutes)+(3600/seconds))\n",
    "\n",
    "print_seconds(1,2,3)\n"
   ]
  },
  {
   "cell_type": "code",
   "execution_count": 7,
   "id": "d20d0c14",
   "metadata": {},
   "outputs": [
    {
     "name": "stdout",
     "output_type": "stream",
     "text": [
      "2\n"
     ]
    }
   ],
   "source": [
    "def is_what(number):\n",
    "    if number > 11: \n",
    "      print(0)\n",
    "    elif number != 10:\n",
    "      print(1)\n",
    "    elif number >= 20 or number < 12:\n",
    "      print(2)\n",
    "    else:\n",
    "      print(3)\n",
    "\n",
    "is_what(10)\n"
   ]
  },
  {
   "cell_type": "code",
   "execution_count": 8,
   "id": "296cf0fc",
   "metadata": {},
   "outputs": [
    {
     "data": {
      "text/plain": [
       "10000"
      ]
     },
     "execution_count": 8,
     "metadata": {},
     "output_type": "execute_result"
    }
   ],
   "source": [
    "100*100"
   ]
  },
  {
   "cell_type": "code",
   "execution_count": 10,
   "id": "521a1d26",
   "metadata": {},
   "outputs": [
    {
     "data": {
      "text/plain": [
       "18887"
      ]
     },
     "execution_count": 10,
     "metadata": {},
     "output_type": "execute_result"
    }
   ],
   "source": [
    "9999+8888"
   ]
  },
  {
   "cell_type": "code",
   "execution_count": 12,
   "id": "fbfdf933",
   "metadata": {},
   "outputs": [
    {
     "data": {
      "text/plain": [
       "1"
      ]
     },
     "execution_count": 12,
     "metadata": {},
     "output_type": "execute_result"
    }
   ],
   "source": [
    "11 % 5"
   ]
  },
  {
   "cell_type": "code",
   "execution_count": 14,
   "id": "fb15e143",
   "metadata": {},
   "outputs": [
    {
     "name": "stdout",
     "output_type": "stream",
     "text": [
      "10\n"
     ]
    }
   ],
   "source": [
    "def sum(x, y):\n",
    "\t\treturn(x+y)\n",
    "print(sum(sum(1,2), sum(3,4)))"
   ]
  },
  {
   "cell_type": "code",
   "execution_count": 16,
   "id": "d7f9cd71",
   "metadata": {},
   "outputs": [
    {
     "data": {
      "text/plain": [
       "True"
      ]
     },
     "execution_count": 16,
     "metadata": {},
     "output_type": "execute_result"
    }
   ],
   "source": [
    "((10 >= 5*2) and (10 <= 5*2))"
   ]
  },
  {
   "cell_type": "code",
   "execution_count": 38,
   "id": "6cb32a73",
   "metadata": {},
   "outputs": [
    {
     "name": "stdout",
     "output_type": "stream",
     "text": [
      "1\n",
      "2\n",
      "3\n",
      "4\n",
      "5\n"
     ]
    }
   ],
   "source": [
    "def print_range(start, end):\n",
    "    # Loop through the numbers from start to end\n",
    "    n = start\n",
    "    while n <= end:\n",
    "        print(n)\n",
    "        n += 1\n",
    "\n",
    "print_range(1,5)"
   ]
  },
  {
   "cell_type": "code",
   "execution_count": 53,
   "id": "79b9ad3a",
   "metadata": {},
   "outputs": [
    {
     "name": "stdout",
     "output_type": "stream",
     "text": [
      "0\n",
      "1\n",
      "55\n",
      "114\n",
      "None\n",
      "True\n",
      "None\n"
     ]
    }
   ],
   "source": [
    "def sum_divisors(n):\n",
    "  # Return the sum of all divisors of n, not including n\n",
    "  i = 1\n",
    "  sum = 0\n",
    "  while i < n:\n",
    "    if n % i == 0:\n",
    "      sum += i\n",
    "      i +=1\n",
    "    else:\n",
    "      i+=1\n",
    "  return sum\n",
    "print(sum_divisors(0))\n",
    "# 0\n",
    "print(sum_divisors(3)) # Should sum of 1\n",
    "# 1\n",
    "print(sum_divisors(36)) # Should sum of 1+2+3+4+6+9+12+18\n",
    "# 55\n",
    "print(sum_divisors(102)) # Should be sum of 2+3+6+17+34+51\n",
    "# 114\n",
    "print(is_power_of_two(1)) # Should be True\n",
    "print(is_power_of_two(8)) # Should be True\n",
    "print(is_power_of_two(9)) # Should be False\n",
    "# DO NOT DELETE THIS COMMENT"
   ]
  },
  {
   "cell_type": "code",
   "execution_count": 6,
   "id": "f81fd4f1",
   "metadata": {},
   "outputs": [
    {
     "name": "stdout",
     "output_type": "stream",
     "text": [
      "[0|0][0|1][0|2][0|3][0|4][0|5][0|6]\n",
      "[1|1][1|2][1|3][1|4][1|5][1|6]\n",
      "[2|2][2|3][2|4][2|5][2|6]\n",
      "[3|3][3|4][3|5][3|6]\n",
      "[4|4][4|5][4|6]\n",
      "[5|5][5|6]\n",
      "[6|6]\n"
     ]
    }
   ],
   "source": [
    "for left in range(7):\n",
    "    for right in range(left, 7):\n",
    "        print(\"[\" + str(left) + \"|\" + str(right) + \"]\", end=\"\")\n",
    "    print()"
   ]
  },
  {
   "cell_type": "code",
   "execution_count": 9,
   "id": "f7be8358",
   "metadata": {},
   "outputs": [
    {
     "name": "stdout",
     "output_type": "stream",
     "text": [
      "Dragons vs Wolves\n",
      "Dragons vs Pandas\n",
      "Dragons vs Unicorns\n",
      "Wolves vs Dragons\n",
      "Wolves vs Pandas\n",
      "Wolves vs Unicorns\n",
      "Pandas vs Dragons\n",
      "Pandas vs Wolves\n",
      "Pandas vs Unicorns\n",
      "Unicorns vs Dragons\n",
      "Unicorns vs Wolves\n",
      "Unicorns vs Pandas\n"
     ]
    }
   ],
   "source": [
    "teams = ['Dragons', 'Wolves', 'Pandas', 'Unicorns']\n",
    "\n",
    "for home_team in teams:\n",
    "    for away_team in teams:\n",
    "        if home_team != away_team:\n",
    "            print(home_team + \" vs \" + away_team)"
   ]
  },
  {
   "cell_type": "code",
   "execution_count": 11,
   "id": "be34077b",
   "metadata": {},
   "outputs": [
    {
     "data": {
      "text/plain": [
       "5050"
      ]
     },
     "execution_count": 11,
     "metadata": {},
     "output_type": "execute_result"
    }
   ],
   "source": [
    "#recursion\n",
    "#https://en.wikipedia.org/wiki/Recursion\n",
    "\n",
    "def sum_positive_numbers(n):\n",
    "    if n < 1:\n",
    "        return n\n",
    "    \n",
    "    return n + sum_positive_numbers(n-1)\n",
    "\n",
    "sum_positive_numbers(100)"
   ]
  },
  {
   "cell_type": "code",
   "execution_count": 15,
   "id": "771e09fc",
   "metadata": {},
   "outputs": [
    {
     "name": "stdout",
     "output_type": "stream",
     "text": [
      "6\n",
      "15\n"
     ]
    }
   ],
   "source": [
    "def sum_positive_numbers(n):\n",
    "    if n <= 1:\n",
    "        return n\n",
    "    return n + sum_positive_numbers (n - 1)\n",
    "print (sum_positive_numbers(3))\n",
    "print (sum_positive_numbers(5))"
   ]
  },
  {
   "cell_type": "code",
   "execution_count": 21,
   "id": "4110cddc",
   "metadata": {},
   "outputs": [],
   "source": [
    "def votes(params):\n",
    "\tfor vote in params:\n",
    "\t    print(\"Possible option:\" + vote)\n"
   ]
  }
 ],
 "metadata": {
  "kernelspec": {
   "display_name": "Python 3 (ipykernel)",
   "language": "python",
   "name": "python3"
  },
  "language_info": {
   "codemirror_mode": {
    "name": "ipython",
    "version": 3
   },
   "file_extension": ".py",
   "mimetype": "text/x-python",
   "name": "python",
   "nbconvert_exporter": "python",
   "pygments_lexer": "ipython3",
   "version": "3.9.7"
  }
 },
 "nbformat": 4,
 "nbformat_minor": 5
}
